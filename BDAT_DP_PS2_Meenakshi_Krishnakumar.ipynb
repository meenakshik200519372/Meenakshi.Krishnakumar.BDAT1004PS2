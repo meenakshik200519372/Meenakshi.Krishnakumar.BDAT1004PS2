{
  "nbformat": 4,
  "nbformat_minor": 0,
  "metadata": {
    "colab": {
      "provenance": []
    },
    "kernelspec": {
      "name": "python3",
      "display_name": "Python 3"
    },
    "language_info": {
      "name": "python"
    }
  },
  "cells": [
    {
      "cell_type": "markdown",
      "source": [
        "# Question 1"
      ],
      "metadata": {
        "id": "p6KMO1x0n0XZ"
      }
    },
    {
      "cell_type": "markdown",
      "source": [
        "### Question\n",
        "\n",
        "Consider the following Python module:\n",
        "\n",
        "    \n",
        "    a = 0\n",
        "\n",
        "    def b():\n",
        "        global a\n",
        "        a = c(a)\n",
        "\n",
        "    def c(a):\n",
        "        return a + 2\n",
        "\n",
        "After importing the module into the interpreter, you execute:\n",
        "\n",
        "    >>> b()\n",
        "    >>> b()\n",
        "    >>> b()\n",
        "    >>> a\n",
        "    ?\n",
        "\n",
        "What value is displayed when the last expression (a) is evaluated? Explain your answer by indicating what happens in every executed statement.\n",
        "\n"
      ],
      "metadata": {
        "id": "WqscXSWWn20R"
      }
    },
    {
      "cell_type": "markdown",
      "source": [
        "### Answers\n",
        "\n",
        "* **The value displayed when the last expression (a) is evaluated will be 6.**\n",
        "\n",
        "Explanation:\n",
        "* Since a is declared as global within the definition of b, when a is assigned inside b (as c(a)), the global value of a gets overwritten.\n",
        "* b()\n",
        ">*  Before: a = 0\n",
        ">* After: a = a + 2 = 2\n",
        "* b()\n",
        ">*  Before: a = 2\n",
        ">* After: a = a + 2 = 4\n",
        "* b()\n",
        ">*  Before: a = 4\n",
        ">* After: a = a + 2 = 6\n",
        "* Hence the last expression (a) would display the current value of a, which is 6.\n",
        "\n",
        "\n",
        "\n",
        "\n",
        "\n",
        "The answers are justified using the following Python script."
      ],
      "metadata": {
        "id": "hRLOVvJTn49C"
      }
    },
    {
      "cell_type": "code",
      "execution_count": null,
      "metadata": {
        "colab": {
          "base_uri": "https://localhost:8080/"
        },
        "id": "tghpP5GInphv",
        "outputId": "d284654c-ab33-481b-f341-65e070e214d9"
      },
      "outputs": [
        {
          "output_type": "stream",
          "name": "stdout",
          "text": [
            "a before first b(): 0\n",
            "a after first b(): 2\n",
            "a before second b(): 2\n",
            "a after second b(): 4\n",
            "a before third b(): 4\n",
            "a after third b(): 6\n",
            "Final value of a: 6\n"
          ]
        },
        {
          "output_type": "execute_result",
          "data": {
            "text/plain": [
              "6"
            ]
          },
          "metadata": {},
          "execution_count": 8
        }
      ],
      "source": [
        "a = 0\n",
        "def b():\n",
        "  global a\n",
        "  a = c(a)\n",
        "def c(a):\n",
        "  return a + 2\n",
        "\n",
        "print(f\"a before first b(): {a}\")\n",
        "b()\n",
        "print(f\"a after first b(): {a}\")\n",
        "print(f\"a before second b(): {a}\")\n",
        "b()\n",
        "print(f\"a after second b(): {a}\")\n",
        "print(f\"a before third b(): {a}\")\n",
        "b()\n",
        "print(f\"a after third b(): {a}\")\n",
        "print(f\"Final value of a: {a}\")\n",
        "a"
      ]
    },
    {
      "cell_type": "markdown",
      "source": [
        "# Question 2"
      ],
      "metadata": {
        "id": "kLmLrZZ6qdJ9"
      }
    },
    {
      "cell_type": "markdown",
      "source": [
        "### Question\n",
        "\n",
        "Function fileLength(), given to you, takes the name of a file as input and returns the length of the file:\n",
        "\n",
        "    >>> fileLength('midterm.py')\n",
        "    284\n",
        "    >>> fileLength('idterm.py')\n",
        "    Traceback (most recent call last): File \"<pyshell#34>\", line 1, in <module> fileLength  ('idterm.py') File \"/Users/me/midterm.py\", line 3,  in fileLength infile = open(filename)  FileNotFoundError: [Errno 2] No such file or directory: 'idterm.py'\n",
        "\n",
        "As shown above, if the file cannot be found by the interpreter or if it cannot be read as a text file, an exception will be raised. Modify function fileLength() so that a friendly message is printed instead:\n",
        "\n",
        "    >>> fileLength('midterm.py')\n",
        "    358\n",
        "    >>> fileLength('idterm.py')\n",
        "    File idterm.py not found.\n",
        "\n",
        "\n",
        "Given function fileLength():\n",
        "\n",
        "    def fileLength(file_name):\n",
        "        file = open(file_name)\n",
        "        contents = file.read()\n",
        "        file.close()\n",
        "        print(len(contents))"
      ],
      "metadata": {
        "id": "p1pldSjYqebL"
      }
    },
    {
      "cell_type": "markdown",
      "source": [
        "### Answer"
      ],
      "metadata": {
        "id": "fNBcqOQyrcnp"
      }
    },
    {
      "cell_type": "code",
      "source": [
        "def fileLength(file_name):\n",
        "  try:\n",
        "    file = open(file_name)\n",
        "    contents = file.read()\n",
        "    file.close()\n",
        "    print(len(contents))\n",
        "  except FileNotFoundError:\n",
        "    print(f\"File {file_name} not found.\")\n"
      ],
      "metadata": {
        "id": "rO3uu82uo5XQ"
      },
      "execution_count": null,
      "outputs": []
    },
    {
      "cell_type": "code",
      "source": [
        "fileLength('idterm.py')\n",
        "fileLength('AnyNonExistentFile.abc')"
      ],
      "metadata": {
        "colab": {
          "base_uri": "https://localhost:8080/"
        },
        "id": "5_rcLkEergXq",
        "outputId": "66c5b080-3888-48f1-fbac-95899a73a02c"
      },
      "execution_count": null,
      "outputs": [
        {
          "output_type": "stream",
          "name": "stdout",
          "text": [
            "File idterm.py not found.\n",
            "File AnyNonExistentFile.abc not found.\n"
          ]
        }
      ]
    },
    {
      "cell_type": "markdown",
      "source": [
        "# Question 3"
      ],
      "metadata": {
        "id": "QGWtTf3VsXzI"
      }
    },
    {
      "cell_type": "markdown",
      "source": [
        "Write a class named Marsupial that can be used as shown below:\n",
        "\n",
        "    >>> m = Marsupial()\n",
        "    >>> m.put_in_pouch('doll')\n",
        "    >>> m.put_in_pouch('firetruck')\n",
        "    >>> m.put_in_pouch('kitten')\n",
        "    >>> m.pouch_contents()\n",
        "    ['doll', 'firetruck', 'kitten']\n",
        "\n",
        "Now write a class named Kangaroo as a subclass of Marsupial that inherits all the attributes of Marsupial and also:\n",
        "\n",
        "> a. extends the Marsupial _ _init_ _ constructor to take, as input, the coordinates x and y of the Kangaroo object,\n",
        "> b. supports method jump that takes number values dx and dy as input and moves the kangaroo by dx units along the x-axis and by dy units along the y-axis, and\n",
        "> c. overloads the __str__ operator so it behaves as shown below.\n",
        "\n",
        "    >>> k = Kangaroo(0,0)\n",
        "    >>> print(k)\n",
        "    I am a Kangaroo located at coordinates (0,0)\n",
        "    >>> k.put_in_pouch('doll')\n",
        "    >>> k.put_in_pouch('firetruck')\n",
        "    >>> k.put_in_pouch('kitten')\n",
        "    >>> k.pouch_contents()\n",
        "    ['doll', 'firetruck', 'kitten']\n",
        "    >>> k.jump(1,0)\n",
        "    >>> k.jump(1,0)\n",
        "    >>> k.jump(1,0)\n",
        "    >>> print(k)\n",
        "    I am a Kangaroo located at coordinates (3,0)\n"
      ],
      "metadata": {
        "id": "QaqKQFGDsZ0K"
      }
    },
    {
      "cell_type": "markdown",
      "source": [
        "### Answer"
      ],
      "metadata": {
        "id": "edTVxzEJt9yr"
      }
    },
    {
      "cell_type": "code",
      "source": [
        "class Marsupial():\n",
        "\n",
        "  def __init__(self, items_in_pouch=[]):\n",
        "    self.coordinates = (0, 0)\n",
        "    self.items_in_pouch = []\n",
        "\n",
        "  def put_in_pouch(self, item):\n",
        "    self.items_in_pouch.append(item)\n",
        "\n",
        "  def pouch_contents(self):\n",
        "    return(self.items_in_pouch)"
      ],
      "metadata": {
        "id": "zjjZzT-erjIM"
      },
      "execution_count": null,
      "outputs": []
    },
    {
      "cell_type": "code",
      "source": [
        "m = Marsupial()\n",
        "m.put_in_pouch('doll')\n",
        "m.put_in_pouch('firetruck')\n",
        "m.put_in_pouch('kitten')\n",
        "m.pouch_contents()"
      ],
      "metadata": {
        "colab": {
          "base_uri": "https://localhost:8080/"
        },
        "id": "LdImLzgOupWC",
        "outputId": "930043c1-d6a1-47db-8d91-f2384530abc0"
      },
      "execution_count": null,
      "outputs": [
        {
          "output_type": "execute_result",
          "data": {
            "text/plain": [
              "['doll', 'firetruck', 'kitten']"
            ]
          },
          "metadata": {},
          "execution_count": 38
        }
      ]
    },
    {
      "cell_type": "code",
      "source": [
        "class Kangaroo(Marsupial):\n",
        "\n",
        "  def __init__(self, x_coordinate, y_coordinate, items_in_pouch=[]):\n",
        "    super().__init__(items_in_pouch)\n",
        "    self.coordinates = (x_coordinate, y_coordinate)\n",
        "\n",
        "  def jump(self, dx, dy):\n",
        "    self.coordinates = (self.coordinates[0]+dx, self.coordinates[1]+dy)\n",
        "\n",
        "  def __str__(self):\n",
        "    return(f\"I am a Kangaroo located at coordinates {self.coordinates}\")"
      ],
      "metadata": {
        "id": "EgCzAtgnuqLZ"
      },
      "execution_count": null,
      "outputs": []
    },
    {
      "cell_type": "code",
      "source": [
        "k = Kangaroo(0,0)\n",
        "print(k)"
      ],
      "metadata": {
        "colab": {
          "base_uri": "https://localhost:8080/"
        },
        "id": "Z2MRUxKQv3jT",
        "outputId": "a2b56bf1-f936-41e4-8b8c-5257345846d6"
      },
      "execution_count": null,
      "outputs": [
        {
          "output_type": "stream",
          "name": "stdout",
          "text": [
            "I am a Kangaroo located at coordinates (0, 0)\n"
          ]
        }
      ]
    },
    {
      "cell_type": "code",
      "source": [
        "k.put_in_pouch('doll')\n",
        "k.put_in_pouch('firetruck')\n",
        "k.put_in_pouch('kitten')\n",
        "k.pouch_contents()"
      ],
      "metadata": {
        "colab": {
          "base_uri": "https://localhost:8080/"
        },
        "id": "NFxSJfn4v6j5",
        "outputId": "e90d18cc-fcee-4340-b196-846cd24fe040"
      },
      "execution_count": null,
      "outputs": [
        {
          "output_type": "execute_result",
          "data": {
            "text/plain": [
              "['doll', 'firetruck', 'kitten']"
            ]
          },
          "metadata": {},
          "execution_count": 47
        }
      ]
    },
    {
      "cell_type": "code",
      "source": [
        "k.jump(1,0)\n",
        "k.jump(1,0)\n",
        "k.jump(1,0)\n",
        "print(k)"
      ],
      "metadata": {
        "colab": {
          "base_uri": "https://localhost:8080/"
        },
        "id": "hqhSv3vgv7-R",
        "outputId": "7c3f7933-1f30-4a9b-9415-68262cb9db7e"
      },
      "execution_count": null,
      "outputs": [
        {
          "output_type": "stream",
          "name": "stdout",
          "text": [
            "I am a Kangaroo located at coordinates (3, 0)\n"
          ]
        }
      ]
    },
    {
      "cell_type": "markdown",
      "source": [
        "# Question 4"
      ],
      "metadata": {
        "id": "iCn9DCEXVeKJ"
      }
    },
    {
      "cell_type": "markdown",
      "source": [
        "### Question\n",
        "\n",
        "Write function collatz() that takes a positive integer x as input and prints the Collatz sequence starting at x. A Collatz sequence is obtained by repeatedly applying this rule to the previous number x in the sequence:\n",
        "\n",
        "    x = x/2     if x is even\n",
        "      = 3x + 1  if x is odd\n",
        "\n",
        "Your function should stop when the sequence gets to number 1. Your implementation must be recursive, without any loops."
      ],
      "metadata": {
        "id": "0UEdYN44Vgq6"
      }
    },
    {
      "cell_type": "markdown",
      "source": [
        "### Answer"
      ],
      "metadata": {
        "id": "ADONhVCLXnBd"
      }
    },
    {
      "cell_type": "code",
      "source": [
        "def collatz(x):\n",
        "\n",
        "  print(int(x))\n",
        "  if x != 1: # if not equal to 1\n",
        "\n",
        "    if x%2 == 0: # if even\n",
        "      return(collatz(x/2))\n",
        "\n",
        "    else: # if odd\n",
        "      return(collatz(3*x + 1))\n"
      ],
      "metadata": {
        "id": "tdunQCf2wAIz"
      },
      "execution_count": 14,
      "outputs": []
    },
    {
      "cell_type": "code",
      "source": [
        "collatz(1)"
      ],
      "metadata": {
        "colab": {
          "base_uri": "https://localhost:8080/"
        },
        "id": "s2flO4gHWz4Q",
        "outputId": "f4d5c683-8d25-47f3-c4fa-790bf3a39e5d"
      },
      "execution_count": 15,
      "outputs": [
        {
          "output_type": "stream",
          "name": "stdout",
          "text": [
            "1\n"
          ]
        }
      ]
    },
    {
      "cell_type": "code",
      "source": [
        "collatz(10)"
      ],
      "metadata": {
        "colab": {
          "base_uri": "https://localhost:8080/"
        },
        "id": "PDgshl_NW6q0",
        "outputId": "972ed5dc-51d3-41fc-fa29-0b1a9ea05be9"
      },
      "execution_count": 16,
      "outputs": [
        {
          "output_type": "stream",
          "name": "stdout",
          "text": [
            "10\n",
            "5\n",
            "16\n",
            "8\n",
            "4\n",
            "2\n",
            "1\n"
          ]
        }
      ]
    },
    {
      "cell_type": "markdown",
      "source": [
        "# Question 5"
      ],
      "metadata": {
        "id": "cXTMhHBBXpRJ"
      }
    },
    {
      "cell_type": "markdown",
      "source": [
        "### Question\n",
        "\n",
        "Write a recursive method binary() that takes a non-negative integer n and prints the binary representation of integer n."
      ],
      "metadata": {
        "id": "s8EnMM8qXsYi"
      }
    },
    {
      "cell_type": "markdown",
      "source": [
        "### Answer"
      ],
      "metadata": {
        "id": "xiFHLYuwgD5h"
      }
    },
    {
      "cell_type": "code",
      "source": [
        "def binary(n):\n",
        "\n",
        "  if n == 0:                  # if the number is 0\n",
        "    return(0)\n",
        "\n",
        "  else:                       # if the number is non-zero\n",
        "    q = n//2                  # quotient\n",
        "    r = n%2                   # reminder\n",
        "    return(10*binary(q) + r)\n"
      ],
      "metadata": {
        "id": "rFvA4wYuW9El"
      },
      "execution_count": 28,
      "outputs": []
    },
    {
      "cell_type": "code",
      "source": [
        "binary(0)"
      ],
      "metadata": {
        "colab": {
          "base_uri": "https://localhost:8080/"
        },
        "id": "RH4cfUeadonW",
        "outputId": "0a149c1f-b569-4c0f-bf89-1f76275b331b"
      },
      "execution_count": 33,
      "outputs": [
        {
          "output_type": "execute_result",
          "data": {
            "text/plain": [
              "0"
            ]
          },
          "metadata": {},
          "execution_count": 33
        }
      ]
    },
    {
      "cell_type": "code",
      "source": [
        "binary(1)"
      ],
      "metadata": {
        "colab": {
          "base_uri": "https://localhost:8080/"
        },
        "id": "VLYccWWmdp3Z",
        "outputId": "5bb59696-1453-44fb-a0ea-35c70690add8"
      },
      "execution_count": 34,
      "outputs": [
        {
          "output_type": "execute_result",
          "data": {
            "text/plain": [
              "1"
            ]
          },
          "metadata": {},
          "execution_count": 34
        }
      ]
    },
    {
      "cell_type": "code",
      "source": [
        "binary(3)"
      ],
      "metadata": {
        "colab": {
          "base_uri": "https://localhost:8080/"
        },
        "id": "GZ0YVrgSdyaf",
        "outputId": "f3f49839-5a36-4b79-ffda-7a05da00dd95"
      },
      "execution_count": 35,
      "outputs": [
        {
          "output_type": "execute_result",
          "data": {
            "text/plain": [
              "11"
            ]
          },
          "metadata": {},
          "execution_count": 35
        }
      ]
    },
    {
      "cell_type": "code",
      "source": [
        "binary(9)"
      ],
      "metadata": {
        "colab": {
          "base_uri": "https://localhost:8080/"
        },
        "id": "4WPZESNvf35b",
        "outputId": "c2f20bf4-cf66-4219-e899-5d61f863b131"
      },
      "execution_count": 36,
      "outputs": [
        {
          "output_type": "execute_result",
          "data": {
            "text/plain": [
              "1001"
            ]
          },
          "metadata": {},
          "execution_count": 36
        }
      ]
    },
    {
      "cell_type": "markdown",
      "source": [
        "# Question 6"
      ],
      "metadata": {
        "id": "vcHV6FXQgOLP"
      }
    },
    {
      "cell_type": "markdown",
      "source": [
        "### Question\n",
        "\n",
        "Implement a class named HeadingParser that can be used to parse an HTML document, and retrieve and print all the headings in the document. You should implement your class as a subclass of HTMLParser, defined in Standard Library module html.parser. When fed a string containing HTML code, your class should print the headings, one per line and in the order in which they appear in the document. Each heading should be indented as follows: an h1 heading should have indentation 0, and h2 heading should have indentation 1, etc. Test your implementation using w3c.html.\n",
        "\n",
        "    >>> infile = open('w3c.html')\n",
        "    >>> content = infile.read()\n",
        "    >>> infile.close()\n",
        "    >>> hp = HeadingParser()\n",
        "    >>> hp.feed(content)\n",
        "    W3C Mission\n",
        "     Principles"
      ],
      "metadata": {
        "id": "V9dAWo3JgQad"
      }
    },
    {
      "cell_type": "markdown",
      "source": [
        "### Answer"
      ],
      "metadata": {
        "id": "1B56k2u1ghAR"
      }
    },
    {
      "cell_type": "code",
      "source": [
        "from html.parser import HTMLParser\n",
        "\n",
        "class HeadingParser(HTMLParser):\n",
        "    def __init__(self):\n",
        "        super().__init__()\n",
        "        self.heading = False\n",
        "        self.heading_level = 0\n",
        "\n",
        "    def handle_starttag(self, tag, attrs):\n",
        "        if tag.startswith(\"h\") and tag[1:].isdigit():\n",
        "            self.heading = True\n",
        "            self.heading_level = int(tag[1])\n",
        "\n",
        "    def handle_data(self, data):\n",
        "        if self.heading:\n",
        "            indentation = \" \" * self.heading_level # Indentation for each heading level\n",
        "            print(f\"{indentation}{data.strip()}\")\n",
        "\n",
        "    def handle_endtag(self, tag):\n",
        "        if tag.startswith(\"h\") and tag[1:].isdigit():\n",
        "            self.heading = False\n"
      ],
      "metadata": {
        "id": "2xfwg9Ds25jz"
      },
      "execution_count": 61,
      "outputs": []
    },
    {
      "cell_type": "code",
      "source": [
        "infile = open('w3c.html')\n",
        "content = infile.read()\n",
        "infile.close()\n",
        "hp = HeadingParser()\n",
        "hp.feed(content)"
      ],
      "metadata": {
        "colab": {
          "base_uri": "https://localhost:8080/"
        },
        "id": "mg55WlKp6_gT",
        "outputId": "3a6d6117-3bfa-4ef0-889e-5323220be008"
      },
      "execution_count": 62,
      "outputs": [
        {
          "output_type": "stream",
          "name": "stdout",
          "text": [
            " W3C Mission\n",
            "  Principles\n"
          ]
        }
      ]
    },
    {
      "cell_type": "markdown",
      "source": [
        "# Question 7"
      ],
      "metadata": {
        "id": "1Fc5BNSdkY9X"
      }
    },
    {
      "cell_type": "markdown",
      "source": [
        "### Question\n",
        "\n",
        "Implement recursive function webdir() that takes as input: a URL (as a string) and non-negative integers depth and indent. Your function should visit every web page reachable from the starting URL web page in depth clicks or less, and print each web page's URL. As shown below, indentation, specified by indent, should be used to indicate the depth of a URL.\n",
        "\n",
        "    >>> webdir('http://reed.cs.depaul.edu/lperkovic/csc242/test1.html', 2, 0)\n",
        "    http://reed.cs.depaul.edu/lperkovic/csc242/test1.html\n",
        "        http://reed.cs.depaul.edu/lperkovic/csc242/test2.html\n",
        "            http://reed.cs.depaul.edu/lperkovic/csc242/test4.html\n",
        "        http://reed.cs.depaul.edu/lperkovic/csc242/test3.html\n",
        "            http://reed.cs.depaul.edu/lperkovic/csc242/test4.html"
      ],
      "metadata": {
        "id": "OhK8Y8CyvSPl"
      }
    },
    {
      "cell_type": "markdown",
      "source": [
        "### Answer"
      ],
      "metadata": {
        "id": "siNdBBaFvz87"
      }
    },
    {
      "cell_type": "code",
      "source": [
        "from urllib.request import urlopen\n",
        "from html.parser import HTMLParser\n",
        "from urllib.parse import urljoin\n",
        "\n",
        "class WebParser(HTMLParser):\n",
        "  def __init__(self, depth, indent):\n",
        "    super().__init__()\n",
        "    self.depth = depth\n",
        "    self.indent = indent\n",
        "\n",
        "  def handle_starttag(self, tag, attrs):\n",
        "    if tag == 'a' and self.depth > 0:\n",
        "      for name, value in attrs:\n",
        "        if name == 'href':\n",
        "          link = urljoin(self.base_url, value)\n",
        "          print(\" \" * self.indent + link)\n",
        "          webdir(link, self.depth - 1, self.indent + 2)\n",
        "\n",
        "def webdir(url, depth, indent):\n",
        "  # print(\"  \" * indent + url)\n",
        "  try:\n",
        "    with urlopen(url) as response:\n",
        "      parser = WebParser(depth, indent+2)\n",
        "      parser.base_url = url\n",
        "      # parser.indent = indent\n",
        "      parser.feed(response.read().decode('utf-8'))\n",
        "  except Exception as e:\n",
        "    print(\" \" * indent + f\"Error: {url} - {e}\")\n"
      ],
      "metadata": {
        "id": "zWPTnt7W3oqh"
      },
      "execution_count": 63,
      "outputs": []
    },
    {
      "cell_type": "code",
      "source": [
        "# Example from the question:\n",
        "url = \"http://reed.cs.depaul.edu/lperkovic/csc242/test1.html\"\n",
        "webdir(url, 2, 0)"
      ],
      "metadata": {
        "colab": {
          "base_uri": "https://localhost:8080/"
        },
        "id": "ft7FwA7TyKzS",
        "outputId": "6b0ace02-f58a-4e41-d687-262649add824"
      },
      "execution_count": 64,
      "outputs": [
        {
          "output_type": "stream",
          "name": "stdout",
          "text": [
            "Error: http://reed.cs.depaul.edu/lperkovic/csc242/test1.html - HTTP Error 404: \n"
          ]
        }
      ]
    },
    {
      "cell_type": "code",
      "source": [
        "# Another example:\n",
        "url = \"https://meenakshijk17.github.io/blogs.html\"\n",
        "print(url)\n",
        "webdir(url, 2, 0)"
      ],
      "metadata": {
        "colab": {
          "base_uri": "https://localhost:8080/"
        },
        "id": "eeBpzXW97lDk",
        "outputId": "1225841d-30c5-464e-fea5-029ed6d0fa7e"
      },
      "execution_count": 65,
      "outputs": [
        {
          "output_type": "stream",
          "name": "stdout",
          "text": [
            "https://meenakshijk17.github.io/blogs.html\n",
            "  https://meenakshijk17.github.io/index.html\n",
            "      https://meenakshijk17.github.io/index.html\n",
            "      https://meenakshijk17.github.io/blogs.html\n",
            "      https://meenakshijk17.github.io/photography.html\n",
            "      https://meenakshijk17.github.io/contact.html\n",
            "      https://meenakshijk17.github.io/index.html\n",
            "      https://meenakshijk17.github.io/index.html#about-me\n",
            "      https://meenakshijk17.github.io/index.html#Work\n",
            "      https://meenakshijk17.github.io/index.html#Education\n",
            "      https://meenakshijk17.github.io/index.html#Volunteering\n",
            "      https://drive.google.com/file/d/133uNUJFXE2uytamvOt2DrBrxTBZWBYpd/view?usp=sharing\n",
            "      https://krythium.com/\n",
            "      https://krythium.com/\n",
            "      https://krythium.com/\n",
            "      https://www.georgiancollege.ca/academics/programs/artificial-intelligence-architecture-design-implementation/\n",
            "        Error: https://www.georgiancollege.ca/academics/programs/artificial-intelligence-architecture-design-implementation/ - HTTP Error 403: Forbidden\n",
            "      https://cusat.ac.in/\n",
            "      https://www.marivanioscollege.com/\n",
            "      https://codeinplace.stanford.edu/\n",
            "      https://drive.google.com/file/d/1k-N8Duf3R5L7URwFgDbzySGOJK9GEBNW/view?usp=sharing\n",
            "      https://www.linkedin.com/in/meenakshi-jk/\n",
            "        Error: https://www.linkedin.com/in/meenakshi-jk/ - HTTP Error 999: Request denied\n",
            "      https://github.com/Meenakshijk17\n",
            "      mailto:meenakshi.krishnakumar.mk@gmail.com\n",
            "        Error: mailto:meenakshi.krishnakumar.mk@gmail.com - <urlopen error unknown url type: mailto>\n",
            "      https://www.instagram.com/meenakshi_jk/\n",
            "        Error: https://www.instagram.com/meenakshi_jk/ - HTTP Error 429: Too Many Requests\n",
            "  https://meenakshijk17.github.io/index.html\n",
            "      https://meenakshijk17.github.io/index.html\n",
            "      https://meenakshijk17.github.io/blogs.html\n",
            "      https://meenakshijk17.github.io/photography.html\n",
            "      https://meenakshijk17.github.io/contact.html\n",
            "      https://meenakshijk17.github.io/index.html\n",
            "      https://meenakshijk17.github.io/index.html#about-me\n",
            "      https://meenakshijk17.github.io/index.html#Work\n",
            "      https://meenakshijk17.github.io/index.html#Education\n",
            "      https://meenakshijk17.github.io/index.html#Volunteering\n",
            "      https://drive.google.com/file/d/133uNUJFXE2uytamvOt2DrBrxTBZWBYpd/view?usp=sharing\n",
            "      https://krythium.com/\n",
            "      https://krythium.com/\n",
            "      https://krythium.com/\n",
            "      https://www.georgiancollege.ca/academics/programs/artificial-intelligence-architecture-design-implementation/\n",
            "        Error: https://www.georgiancollege.ca/academics/programs/artificial-intelligence-architecture-design-implementation/ - HTTP Error 403: Forbidden\n",
            "      https://cusat.ac.in/\n",
            "      https://www.marivanioscollege.com/\n",
            "      https://codeinplace.stanford.edu/\n",
            "      https://drive.google.com/file/d/1k-N8Duf3R5L7URwFgDbzySGOJK9GEBNW/view?usp=sharing\n",
            "      https://www.linkedin.com/in/meenakshi-jk/\n",
            "        Error: https://www.linkedin.com/in/meenakshi-jk/ - HTTP Error 999: Request denied\n",
            "      https://github.com/Meenakshijk17\n",
            "      mailto:meenakshi.krishnakumar.mk@gmail.com\n",
            "        Error: mailto:meenakshi.krishnakumar.mk@gmail.com - <urlopen error unknown url type: mailto>\n",
            "      https://www.instagram.com/meenakshi_jk/\n",
            "        Error: https://www.instagram.com/meenakshi_jk/ - HTTP Error 429: Too Many Requests\n",
            "  https://meenakshijk17.github.io/blogs.html\n",
            "      https://meenakshijk17.github.io/index.html\n",
            "      https://meenakshijk17.github.io/index.html\n",
            "      https://meenakshijk17.github.io/blogs.html\n",
            "      https://meenakshijk17.github.io/photography.html\n",
            "      https://meenakshijk17.github.io/contact.html\n",
            "      https://meenakshijk17.github.io/blogs/Thinking_Outside_the_Syntax.html\n",
            "      https://meenakshijk17.github.io/blogs/The_Benefit_of_Doubt.html\n",
            "      https://www.linkedin.com/in/meenakshi-jk/\n",
            "        Error: https://www.linkedin.com/in/meenakshi-jk/ - HTTP Error 999: Request denied\n",
            "      https://github.com/Meenakshijk17\n",
            "      mailto:meenakshi.krishnakumar.mk@gmail.com\n",
            "        Error: mailto:meenakshi.krishnakumar.mk@gmail.com - <urlopen error unknown url type: mailto>\n",
            "      https://www.instagram.com/meenakshi_jk/\n",
            "  https://meenakshijk17.github.io/photography.html\n",
            "      https://meenakshijk17.github.io/index.html\n",
            "      https://meenakshijk17.github.io/index.html\n",
            "      https://meenakshijk17.github.io/blogs.html\n",
            "      https://meenakshijk17.github.io/photography.html\n",
            "      https://meenakshijk17.github.io/contact.html\n",
            "      https://www.linkedin.com/in/meenakshi-jk/\n",
            "        Error: https://www.linkedin.com/in/meenakshi-jk/ - HTTP Error 999: Request denied\n",
            "      https://github.com/Meenakshijk17\n",
            "      mailto:meenakshi.krishnakumar.mk@gmail.com\n",
            "        Error: mailto:meenakshi.krishnakumar.mk@gmail.com - <urlopen error unknown url type: mailto>\n",
            "      https://www.instagram.com/meenakshi_jk/\n",
            "        Error: https://www.instagram.com/meenakshi_jk/ - HTTP Error 429: Too Many Requests\n",
            "  https://meenakshijk17.github.io/contact.html\n",
            "      https://meenakshijk17.github.io/index.html\n",
            "      https://meenakshijk17.github.io/index.html\n",
            "      https://meenakshijk17.github.io/blogs.html\n",
            "      https://meenakshijk17.github.io/photography.html\n",
            "      https://meenakshijk17.github.io/contact.html\n",
            "      mailto:meenakshi.krishnakumar.mk@gmail.com\n",
            "        Error: mailto:meenakshi.krishnakumar.mk@gmail.com - <urlopen error unknown url type: mailto>\n",
            "      https://www.linkedin.com/in/meenakshi-jk/\n",
            "        Error: https://www.linkedin.com/in/meenakshi-jk/ - HTTP Error 999: Request denied\n",
            "      https://github.com/Meenakshijk17\n",
            "      https://www.instagram.com/meenakshi_jk/\n",
            "        Error: https://www.instagram.com/meenakshi_jk/ - HTTP Error 429: Too Many Requests\n",
            "      https://www.linkedin.com/in/meenakshi-jk/\n",
            "        Error: https://www.linkedin.com/in/meenakshi-jk/ - HTTP Error 999: Request denied\n",
            "      https://github.com/Meenakshijk17\n",
            "      mailto:meenakshi.krishnakumar.mk@gmail.com\n",
            "        Error: mailto:meenakshi.krishnakumar.mk@gmail.com - <urlopen error unknown url type: mailto>\n",
            "      https://www.instagram.com/meenakshi_jk/\n",
            "        Error: https://www.instagram.com/meenakshi_jk/ - HTTP Error 429: Too Many Requests\n",
            "  https://meenakshijk17.github.io/blogs/Thinking_Outside_the_Syntax.html\n",
            "      https://meenakshijk17.github.io/index.html\n",
            "      https://meenakshijk17.github.io/index.html\n",
            "      https://meenakshijk17.github.io/blogs.html\n",
            "      https://meenakshijk17.github.io/photography.html\n",
            "      https://meenakshijk17.github.io/contact.html\n",
            "      https://scratch.mit.edu/projects/866415870\n",
            "        Error: https://scratch.mit.edu/projects/866415870 - HTTP Error 429: Too many requests\n",
            "      https://compedu.stanford.edu/karel-reader/docs/python/en/chapter1.html\n",
            "      https://scratch.mit.edu/\n",
            "        Error: https://scratch.mit.edu/ - HTTP Error 429: Too many requests\n",
            "      https://codeinplace.stanford.edu/\n",
            "      https://www.edx.org/course/introduction-computer-science-harvardx-cs50x?utm_source=google&utm_campaign=19315581336&utm_medium=cpc&utm_term=harvard%20cs50&hsa_acc=7245054034&hsa_cam=19315581336&hsa_grp=144242542723&hsa_ad=642052609431&hsa_src=g&hsa_tgt=kwd-334019831226&hsa_kw=harvard%20cs50&hsa_mt=e&hsa_net=adwords&hsa_ver=3&gclid=Cj0KCQjw1rqkBhCTARIsAAHz7K2Na2zv79qLNmfCtxHeQcFHryzK5Lrlr_39l589DwAPJV8GPR-kDa8aAjvkEALw_wcB\n",
            "        Error: https://www.edx.org/course/introduction-computer-science-harvardx-cs50x?utm_source=google&utm_campaign=19315581336&utm_medium=cpc&utm_term=harvard%20cs50&hsa_acc=7245054034&hsa_cam=19315581336&hsa_grp=144242542723&hsa_ad=642052609431&hsa_src=g&hsa_tgt=kwd-334019831226&hsa_kw=harvard%20cs50&hsa_mt=e&hsa_net=adwords&hsa_ver=3&gclid=Cj0KCQjw1rqkBhCTARIsAAHz7K2Na2zv79qLNmfCtxHeQcFHryzK5Lrlr_39l589DwAPJV8GPR-kDa8aAjvkEALw_wcB - HTTP Error 403: Forbidden\n",
            "      https://www.linkedin.com/in/meenakshi-jk/\n",
            "        Error: https://www.linkedin.com/in/meenakshi-jk/ - HTTP Error 999: Request denied\n",
            "      https://github.com/Meenakshijk17\n",
            "      mailto:meenakshi.krishnakumar.mk@gmail.com\n",
            "        Error: mailto:meenakshi.krishnakumar.mk@gmail.com - <urlopen error unknown url type: mailto>\n",
            "      https://www.instagram.com/meenakshi_jk/\n",
            "        Error: https://www.instagram.com/meenakshi_jk/ - HTTP Error 429: Too Many Requests\n",
            "  https://meenakshijk17.github.io/blogs/The_Benefit_of_Doubt.html\n",
            "      https://meenakshijk17.github.io/index.html\n",
            "      https://meenakshijk17.github.io/index.html\n",
            "      https://meenakshijk17.github.io/blogs.html\n",
            "      https://meenakshijk17.github.io/photography.html\n",
            "      https://meenakshijk17.github.io/contact.html\n",
            "      https://hbr.org/podcast/2023/06/how-to-manage-being-taken-seriously\n",
            "      https://hbr.org/podcast/2023/06/how-to-manage-being-taken-seriously\n",
            "      https://www.linkedin.com/in/meenakshi-jk/\n",
            "        Error: https://www.linkedin.com/in/meenakshi-jk/ - HTTP Error 999: Request denied\n",
            "      https://github.com/Meenakshijk17\n",
            "      mailto:meenakshi.krishnakumar.mk@gmail.com\n",
            "        Error: mailto:meenakshi.krishnakumar.mk@gmail.com - <urlopen error unknown url type: mailto>\n",
            "      https://www.instagram.com/meenakshi_jk/\n",
            "        Error: https://www.instagram.com/meenakshi_jk/ - HTTP Error 429: Too Many Requests\n",
            "  https://www.linkedin.com/in/meenakshi-jk/\n",
            "    Error: https://www.linkedin.com/in/meenakshi-jk/ - HTTP Error 999: Request denied\n",
            "  https://github.com/Meenakshijk17\n",
            "      https://github.com/Meenakshijk17#start-of-content\n",
            "      https://github.com/\n",
            "      https://github.com/signup?ref_cta=Sign+up&ref_loc=header+logged+out&ref_page=%2F%3Cuser-name%3E&source=header\n",
            "      https://github.com/features/actions\n",
            "      https://github.com/features/packages\n",
            "      https://github.com/features/security\n",
            "      https://github.com/features/codespaces\n",
            "      https://github.com/features/copilot\n",
            "      https://github.com/features/code-review\n",
            "      https://github.com/features/issues\n",
            "      https://github.com/features/discussions\n",
            "      https://github.com/features\n",
            "      https://docs.github.com\n",
            "      https://skills.github.com/\n",
            "      https://github.blog\n",
            "      https://github.com/enterprise\n",
            "      https://github.com/team\n",
            "      https://github.com/enterprise/startups\n",
            "      https://education.github.com\n",
            "      https://github.com/solutions/ci-cd/\n",
            "      https://resources.github.com/devops/\n",
            "      https://resources.github.com/devops/fundamentals/devsecops/\n",
            "      https://resources.github.com/learn/pathways/\n",
            "      https://resources.github.com/\n",
            "      https://github.com/customer-stories\n",
            "      https://partner.github.com/\n",
            "      https://github.com/sponsors\n",
            "      https://github.com/readme\n",
            "      https://github.com/topics\n",
            "      https://github.com/trending\n",
            "      https://github.com/collections\n",
            "      https://github.com/pricing\n",
            "      https://docs.github.com/en/search-github/github-code-search/understanding-github-code-search-syntax\n",
            "      https://docs.github.com/en/search-github/github-code-search/understanding-github-code-search-syntax\n",
            "      https://github.com/login?return_to=https%3A%2F%2Fgithub.com%2FMeenakshijk17\n",
            "      https://github.com/signup?ref_cta=Sign+up&ref_loc=header+logged+out&ref_page=%2F%3Cuser-name%3E&source=header\n",
            "      https://github.com/Meenakshijk17\n",
            "      https://github.com/Meenakshijk17\n",
            "      https://github.com/Meenakshijk17\n",
            "      https://github.com/login?return_to=https%3A%2F%2Fgithub.com%2FMeenakshijk17\n",
            "      https://github.com/Meenakshijk17\n",
            "      https://github.com/Meenakshijk17?tab=repositories\n",
            "      https://github.com/Meenakshijk17?tab=projects\n",
            "      https://github.com/Meenakshijk17?tab=packages\n",
            "      https://github.com/Meenakshijk17?tab=stars\n",
            "      https://github.com/Meenakshijk17\n",
            "      https://github.com/Meenakshijk17?tab=repositories\n",
            "      https://github.com/Meenakshijk17?tab=projects\n",
            "      https://github.com/Meenakshijk17?tab=packages\n",
            "      https://github.com/Meenakshijk17?tab=stars\n",
            "      https://github.com/login?return_to=https%3A%2F%2Fgithub.com%2FMeenakshijk17\n",
            "      https://avatars.githubusercontent.com/u/63089206?v=4\n",
            "        Error: https://avatars.githubusercontent.com/u/63089206?v=4 - 'utf-8' codec can't decode byte 0xff in position 0: invalid start byte\n",
            "      https://github.com/login?return_to=https%3A%2F%2Fgithub.com%2FMeenakshijk17\n",
            "      https://github.com/Meenakshijk17?tab=followers\n",
            "      https://github.com/Meenakshijk17?tab=following\n",
            "      https://meenakshijk17.github.io/\n",
            "      https://www.linkedin.com/in/meenakshi-jk/\n",
            "        Error: https://www.linkedin.com/in/meenakshi-jk/ - HTTP Error 999: Request denied\n",
            "      https://docs.github.com/en/articles/blocking-a-user-from-your-personal-account\n",
            "      https://docs.github.com/en/articles/reporting-abuse-or-spam\n",
            "      https://github.com/contact/report-abuse?report=Meenakshijk17+%28user%29\n",
            "      https://github.com/Meenakshijk17\n",
            "      https://github.com/Meenakshijk17?tab=repositories\n",
            "      https://github.com/Meenakshijk17?tab=projects\n",
            "      https://github.com/Meenakshijk17?tab=packages\n",
            "      https://github.com/Meenakshijk17?tab=stars\n",
            "      https://github.com/Meenakshijk17\n",
            "      https://github.com/Meenakshijk17?tab=repositories\n",
            "      https://github.com/Meenakshijk17?tab=projects\n",
            "      https://github.com/Meenakshijk17?tab=packages\n",
            "      https://github.com/Meenakshijk17?tab=stars\n",
            "      https://github.com/Meenakshijk17/Meenakshijk17\n",
            "      mailto:meenakshi.krishnakumar.mk@gmail.com\n",
            "        Error: mailto:meenakshi.krishnakumar.mk@gmail.com - <urlopen error unknown url type: mailto>\n",
            "      http://www.linkedin.com/in/meenakshi-jk\n",
            "        Error: http://www.linkedin.com/in/meenakshi-jk - HTTP Error 999: Request denied\n",
            "      https://github.com/Meenakshijk17/Meenakshijk17\n",
            "      https://github.com/Meenakshijk17/ml-classification\n",
            "      https://github.com/Meenakshijk17/preprocessing1\n",
            "      https://github.com/Meenakshijk17/text-preprocessing1\n",
            "      https://github.com/Meenakshijk17/feature-selection1\n",
            "      https://github.com/Meenakshijk17/hangman\n",
            "      https://docs.github.com/articles/why-are-my-contributions-not-showing-up-on-my-profile\n",
            "      https://github.com/Meenakshijk17?tab=overview&from=2023-10-01&to=2023-10-25\n",
            "      https://github.com/Meenakshijk17?tab=overview&from=2022-12-01&to=2022-12-31\n",
            "      https://github.com/Meenakshijk17?tab=overview&from=2021-12-01&to=2021-12-31\n",
            "      https://github.com/Meenakshijk17?tab=overview&from=2020-12-01&to=2020-12-31\n",
            "      https://docs.github.com/categories/setting-up-and-managing-your-github-profile\n",
            "      https://github.com\n",
            "      https://docs.github.com/site-policy/github-terms/github-terms-of-service\n",
            "      https://docs.github.com/site-policy/privacy-policies/github-privacy-statement\n",
            "      https://github.com/security\n",
            "      https://www.githubstatus.com/\n",
            "      https://docs.github.com\n",
            "      https://support.github.com?tags=dotcom-footer\n",
            "      https://github.com/pricing\n",
            "      https://docs.github.com\n",
            "      https://services.github.com\n",
            "      https://github.blog\n",
            "      https://github.com/about\n",
            "  mailto:meenakshi.krishnakumar.mk@gmail.com\n",
            "    Error: mailto:meenakshi.krishnakumar.mk@gmail.com - <urlopen error unknown url type: mailto>\n",
            "  https://www.instagram.com/meenakshi_jk/\n",
            "    Error: https://www.instagram.com/meenakshi_jk/ - HTTP Error 429: Too Many Requests\n"
          ]
        }
      ]
    },
    {
      "cell_type": "markdown",
      "source": [
        "# Question 8"
      ],
      "metadata": {
        "id": "xs8HcJiskbsx"
      }
    },
    {
      "cell_type": "markdown",
      "source": [
        "### Question\n",
        "\n",
        "Write SQL queries on the below database table that return:\n",
        "> a) All the temperature data.\n",
        "\n",
        "> b) All the cities, but without repetition.\n",
        "\n",
        "> c) All the records for India.\n",
        "\n",
        "> d) All the Fall records.\n",
        "\n",
        "> e) The city, country, and season for which the average rainfall is between 200 and 400 millimeters.\n",
        "\n",
        "> f) The city and country for which the average Fall temperature is above 20 degrees, in increasing temperature order.\n",
        "\n",
        "> g) The total annual rainfall for Cairo.\n",
        "\n",
        "> h) The total rainfall for each season."
      ],
      "metadata": {
        "id": "zNIiE2wBki6E"
      }
    },
    {
      "cell_type": "markdown",
      "source": [
        "### Answer"
      ],
      "metadata": {
        "id": "-qnbVaP_ltDB"
      }
    },
    {
      "cell_type": "code",
      "source": [
        "# loading the data\n",
        "import sqlite3\n",
        "con = sqlite3.connect('temp_rainfall1.db')\n",
        "cur = con.cursor()\n",
        "cur.execute(\"CREATE TABLE df (City text, Country text, Season text, Temperature float, Rainfall float)\")\n",
        "data = [['Mumbai', 'India', 'Winter', 24.8, 5.9],\n",
        "        ['Mumbai', 'India', 'Spring', 28.4, 16.2],\n",
        "        ['Mumbai', 'India', 'Summer', 27.9, 1549.4],\n",
        "        ['Mumbai', 'India', 'Fall', 27.6, 346.0],\n",
        "        ['London', 'United Kingdom', 'Winter', 4.2, 207.7],\n",
        "        ['London', 'United Kingdom', 'Spring', 8.3, 169.6],\n",
        "        ['London', 'United Kingdom', 'Summer', 15.7, 157.0],\n",
        "        ['London', 'United Kingdom', 'Fall', 10.4, 218.5],\n",
        "        ['Cairo', 'Egypt', 'Winter', 13.6, 16.5],\n",
        "        ['Cairo', 'Egypt', 'Spring', 20.7, 6.5],\n",
        "        ['Cairo', 'Egypt', 'Summer', 27.7, 0.1],\n",
        "        ['Cairo', 'Egypt', 'Fall', 22.2, 4.5]]\n",
        "for row in data:\n",
        "  cur.execute(f\"INSERT INTO df VALUES ('{row[0]}', '{row[1]}', '{row[2]}', {row[3]}, {row[4]})\")\n",
        "con.commit()\n",
        "con.close()\n"
      ],
      "metadata": {
        "id": "ntkFe3bsrCeI"
      },
      "execution_count": 2,
      "outputs": []
    },
    {
      "cell_type": "code",
      "source": [
        "# checking the loaded data\n",
        "con = sqlite3.connect('temp_rainfall1.db')\n",
        "cur = con.cursor()\n",
        "cur.execute('SELECT * FROM df')\n",
        "cur.fetchall()"
      ],
      "metadata": {
        "colab": {
          "base_uri": "https://localhost:8080/"
        },
        "id": "FGIU5eMsrakl",
        "outputId": "811c8311-e648-4056-d9ca-7a5f7436cb50"
      },
      "execution_count": 3,
      "outputs": [
        {
          "output_type": "execute_result",
          "data": {
            "text/plain": [
              "[('Mumbai', 'India', 'Winter', 24.8, 5.9),\n",
              " ('Mumbai', 'India', 'Spring', 28.4, 16.2),\n",
              " ('Mumbai', 'India', 'Summer', 27.9, 1549.4),\n",
              " ('Mumbai', 'India', 'Fall', 27.6, 346.0),\n",
              " ('London', 'United Kingdom', 'Winter', 4.2, 207.7),\n",
              " ('London', 'United Kingdom', 'Spring', 8.3, 169.6),\n",
              " ('London', 'United Kingdom', 'Summer', 15.7, 157.0),\n",
              " ('London', 'United Kingdom', 'Fall', 10.4, 218.5),\n",
              " ('Cairo', 'Egypt', 'Winter', 13.6, 16.5),\n",
              " ('Cairo', 'Egypt', 'Spring', 20.7, 6.5),\n",
              " ('Cairo', 'Egypt', 'Summer', 27.7, 0.1),\n",
              " ('Cairo', 'Egypt', 'Fall', 22.2, 4.5)]"
            ]
          },
          "metadata": {},
          "execution_count": 3
        }
      ]
    },
    {
      "cell_type": "code",
      "source": [
        "# a) All the temperature data.\n",
        "con = sqlite3.connect('temp_rainfall1.db')\n",
        "cur = con.cursor()\n",
        "cur.execute('SELECT Temperature FROM df')\n",
        "cur.fetchall()"
      ],
      "metadata": {
        "colab": {
          "base_uri": "https://localhost:8080/"
        },
        "id": "rpfBhkPNtE0T",
        "outputId": "13f75b0d-5675-4a59-9165-666843794cce"
      },
      "execution_count": 4,
      "outputs": [
        {
          "output_type": "execute_result",
          "data": {
            "text/plain": [
              "[(24.8,),\n",
              " (28.4,),\n",
              " (27.9,),\n",
              " (27.6,),\n",
              " (4.2,),\n",
              " (8.3,),\n",
              " (15.7,),\n",
              " (10.4,),\n",
              " (13.6,),\n",
              " (20.7,),\n",
              " (27.7,),\n",
              " (22.2,)]"
            ]
          },
          "metadata": {},
          "execution_count": 4
        }
      ]
    },
    {
      "cell_type": "code",
      "source": [
        "# b) All the cities, but without repetition.\n",
        "con = sqlite3.connect('temp_rainfall1.db')\n",
        "cur = con.cursor()\n",
        "cur.execute('SELECT DISTINCT City FROM df')\n",
        "cur.fetchall()"
      ],
      "metadata": {
        "colab": {
          "base_uri": "https://localhost:8080/"
        },
        "id": "j50qH6mZtTxS",
        "outputId": "46e7f0ad-a226-454a-a5c3-09bd47767978"
      },
      "execution_count": 5,
      "outputs": [
        {
          "output_type": "execute_result",
          "data": {
            "text/plain": [
              "[('Mumbai',), ('London',), ('Cairo',)]"
            ]
          },
          "metadata": {},
          "execution_count": 5
        }
      ]
    },
    {
      "cell_type": "code",
      "source": [
        "# c) All the records for India.\n",
        "con = sqlite3.connect('temp_rainfall1.db')\n",
        "cur = con.cursor()\n",
        "cur.execute('SELECT * FROM df WHERE Country=\"India\"')\n",
        "cur.fetchall()"
      ],
      "metadata": {
        "colab": {
          "base_uri": "https://localhost:8080/"
        },
        "id": "vcJS-6mAtaTV",
        "outputId": "14cc3d0c-fc7b-4f15-aefe-c2e494827bf6"
      },
      "execution_count": 6,
      "outputs": [
        {
          "output_type": "execute_result",
          "data": {
            "text/plain": [
              "[('Mumbai', 'India', 'Winter', 24.8, 5.9),\n",
              " ('Mumbai', 'India', 'Spring', 28.4, 16.2),\n",
              " ('Mumbai', 'India', 'Summer', 27.9, 1549.4),\n",
              " ('Mumbai', 'India', 'Fall', 27.6, 346.0)]"
            ]
          },
          "metadata": {},
          "execution_count": 6
        }
      ]
    },
    {
      "cell_type": "code",
      "source": [
        "# d) All the Fall records.\n",
        "con = sqlite3.connect('temp_rainfall1.db')\n",
        "cur = con.cursor()\n",
        "cur.execute('SELECT * FROM df WHERE Season=\"Fall\"')\n",
        "cur.fetchall()"
      ],
      "metadata": {
        "colab": {
          "base_uri": "https://localhost:8080/"
        },
        "id": "ACCsgfzrtl2M",
        "outputId": "bb9212eb-7977-4ae0-bfa7-2b86c0f6508c"
      },
      "execution_count": 7,
      "outputs": [
        {
          "output_type": "execute_result",
          "data": {
            "text/plain": [
              "[('Mumbai', 'India', 'Fall', 27.6, 346.0),\n",
              " ('London', 'United Kingdom', 'Fall', 10.4, 218.5),\n",
              " ('Cairo', 'Egypt', 'Fall', 22.2, 4.5)]"
            ]
          },
          "metadata": {},
          "execution_count": 7
        }
      ]
    },
    {
      "cell_type": "code",
      "source": [
        "# e) The city, country, and season for which the average rainfall\n",
        "# is between 200 and 400 millimeters.\n",
        "con = sqlite3.connect('temp_rainfall1.db')\n",
        "cur = con.cursor()\n",
        "cur.execute('SELECT City, Country, Season FROM df WHERE Rainfall BETWEEN 200 AND 400')\n",
        "cur.fetchall()"
      ],
      "metadata": {
        "colab": {
          "base_uri": "https://localhost:8080/"
        },
        "id": "GuBH3zxItrVB",
        "outputId": "e1a0d789-b3ca-4bf0-af83-e3106394fa85"
      },
      "execution_count": 9,
      "outputs": [
        {
          "output_type": "execute_result",
          "data": {
            "text/plain": [
              "[('Mumbai', 'India', 'Fall'),\n",
              " ('London', 'United Kingdom', 'Winter'),\n",
              " ('London', 'United Kingdom', 'Fall')]"
            ]
          },
          "metadata": {},
          "execution_count": 9
        }
      ]
    },
    {
      "cell_type": "code",
      "source": [
        "# f) The city and country for which the average Fall temperature\n",
        "# is above 20 degrees, in increasing temperature order.\n",
        "con = sqlite3.connect('temp_rainfall1.db')\n",
        "cur = con.cursor()\n",
        "cur.execute('SELECT City, Country FROM df WHERE Temperature > 20 order by Temperature')\n",
        "cur.fetchall()"
      ],
      "metadata": {
        "colab": {
          "base_uri": "https://localhost:8080/"
        },
        "id": "mwyt4NOHuHsr",
        "outputId": "3fa41f38-4e62-4e61-9015-99501b0be7ed"
      },
      "execution_count": 11,
      "outputs": [
        {
          "output_type": "execute_result",
          "data": {
            "text/plain": [
              "[('Cairo', 'Egypt'),\n",
              " ('Cairo', 'Egypt'),\n",
              " ('Mumbai', 'India'),\n",
              " ('Mumbai', 'India'),\n",
              " ('Cairo', 'Egypt'),\n",
              " ('Mumbai', 'India'),\n",
              " ('Mumbai', 'India')]"
            ]
          },
          "metadata": {},
          "execution_count": 11
        }
      ]
    },
    {
      "cell_type": "code",
      "source": [
        "# g) The total annual rainfall for Cairo.\n",
        "con = sqlite3.connect('temp_rainfall1.db')\n",
        "cur = con.cursor()\n",
        "cur.execute('SELECT SUM(Rainfall) FROM df WHERE City=\"Cairo\"')\n",
        "cur.fetchall()"
      ],
      "metadata": {
        "colab": {
          "base_uri": "https://localhost:8080/"
        },
        "id": "O0fcNzkzugdi",
        "outputId": "e1f141cc-3222-428e-debd-e0c7a7dfa503"
      },
      "execution_count": 12,
      "outputs": [
        {
          "output_type": "execute_result",
          "data": {
            "text/plain": [
              "[(27.6,)]"
            ]
          },
          "metadata": {},
          "execution_count": 12
        }
      ]
    },
    {
      "cell_type": "code",
      "source": [
        "# h) The total rainfall for each season.\n",
        "con = sqlite3.connect('temp_rainfall1.db')\n",
        "cur = con.cursor()\n",
        "cur.execute('SELECT Season, SUM(Rainfall) FROM df GROUP BY Season')\n",
        "cur.fetchall()"
      ],
      "metadata": {
        "colab": {
          "base_uri": "https://localhost:8080/"
        },
        "id": "FZsvsMD2uwV-",
        "outputId": "afb728de-dc9a-4c53-cba1-2b1e77676261"
      },
      "execution_count": 14,
      "outputs": [
        {
          "output_type": "execute_result",
          "data": {
            "text/plain": [
              "[('Fall', 569.0),\n",
              " ('Spring', 192.29999999999998),\n",
              " ('Summer', 1706.5),\n",
              " ('Winter', 230.1)]"
            ]
          },
          "metadata": {},
          "execution_count": 14
        }
      ]
    },
    {
      "cell_type": "markdown",
      "source": [
        "# Question 9"
      ],
      "metadata": {
        "id": "wSaxY2lXhJRg"
      }
    },
    {
      "cell_type": "markdown",
      "source": [
        "### Question\n",
        "\n",
        "Suppose list words is defined as follows:\n",
        "    >>> words = ['The', 'quick', 'brown', 'fox', 'jumps', 'over', 'the', 'lazy', 'dog']\n",
        "Write list comprehension expressions that use list words and generate the following lists:\n",
        "\n",
        "> a. ['THE', 'QUICK', 'BROWN', 'FOX', 'JUMPS', 'OVER', 'THE', 'LAZY', 'DOG']\n",
        "\n",
        "> b. ['the', 'quick', 'brown', 'fox', 'jumps', 'over', 'the', 'lazy', 'dog']\n",
        "\n",
        "> c. [3, 5, 5, 3, 5, 4, 3, 4, 3] (the list of lengths of words in list words).\n",
        "\n",
        "> d. [['THE', 'the', 3], ['QUICK', 'quick', 5], ['BROWN', 'brown', 5], ['FOX', 'fox', 3], ['JUMPS', 'jumps', 5], ['OVER', 'over', 4], ['THE', 'the', 3], ['LAZY', 'lazy', 4], ['DOG', 'dog', 3]] (the list containing a list for every word of list words, where each list contains the word in uppercase and lowercase and the length of the word.)\n",
        "\n",
        "> e. ['The', 'quick', 'brown', 'fox', 'jumps', 'over', 'the', 'lazy', 'dog'] (the list of words in list words containing 4 or more characters.)"
      ],
      "metadata": {
        "id": "GjNO7bowhK6I"
      }
    },
    {
      "cell_type": "markdown",
      "source": [
        "### Answer"
      ],
      "metadata": {
        "id": "d7WvWM9AiEuM"
      }
    },
    {
      "cell_type": "code",
      "source": [
        "# given list of words\n",
        "words = ['The', 'quick', 'brown', 'fox', 'jumps', 'over', 'the', 'lazy', 'dog']"
      ],
      "metadata": {
        "id": "JYYnxkGNgAji"
      },
      "execution_count": 38,
      "outputs": []
    },
    {
      "cell_type": "code",
      "source": [
        "# a.\n",
        "[word.upper() for word in words]"
      ],
      "metadata": {
        "colab": {
          "base_uri": "https://localhost:8080/"
        },
        "id": "wBuck5QfiNaa",
        "outputId": "878df473-f53f-4204-9694-13a25a596e1c"
      },
      "execution_count": 39,
      "outputs": [
        {
          "output_type": "execute_result",
          "data": {
            "text/plain": [
              "['THE', 'QUICK', 'BROWN', 'FOX', 'JUMPS', 'OVER', 'THE', 'LAZY', 'DOG']"
            ]
          },
          "metadata": {},
          "execution_count": 39
        }
      ]
    },
    {
      "cell_type": "code",
      "source": [
        "# b.\n",
        "[word.lower() for word in words]"
      ],
      "metadata": {
        "colab": {
          "base_uri": "https://localhost:8080/"
        },
        "id": "1QkqGzYtiZMZ",
        "outputId": "ca72d1ca-925e-43f1-aa04-bd2d876988a6"
      },
      "execution_count": 40,
      "outputs": [
        {
          "output_type": "execute_result",
          "data": {
            "text/plain": [
              "['the', 'quick', 'brown', 'fox', 'jumps', 'over', 'the', 'lazy', 'dog']"
            ]
          },
          "metadata": {},
          "execution_count": 40
        }
      ]
    },
    {
      "cell_type": "code",
      "source": [
        "# c.\n",
        "[len(word) for word in words]"
      ],
      "metadata": {
        "colab": {
          "base_uri": "https://localhost:8080/"
        },
        "id": "y_71IvGZic_s",
        "outputId": "1c6e2404-3a82-4e2e-91c5-1f39783fae99"
      },
      "execution_count": 41,
      "outputs": [
        {
          "output_type": "execute_result",
          "data": {
            "text/plain": [
              "[3, 5, 5, 3, 5, 4, 3, 4, 3]"
            ]
          },
          "metadata": {},
          "execution_count": 41
        }
      ]
    },
    {
      "cell_type": "code",
      "source": [
        "# d.\n",
        "[[word.upper(), word.lower(), len(word)] for word in words]"
      ],
      "metadata": {
        "colab": {
          "base_uri": "https://localhost:8080/"
        },
        "id": "uE6rIgoDihs2",
        "outputId": "142d9348-a9e6-4d41-bd61-c5a1bf79bd3f"
      },
      "execution_count": 42,
      "outputs": [
        {
          "output_type": "execute_result",
          "data": {
            "text/plain": [
              "[['THE', 'the', 3],\n",
              " ['QUICK', 'quick', 5],\n",
              " ['BROWN', 'brown', 5],\n",
              " ['FOX', 'fox', 3],\n",
              " ['JUMPS', 'jumps', 5],\n",
              " ['OVER', 'over', 4],\n",
              " ['THE', 'the', 3],\n",
              " ['LAZY', 'lazy', 4],\n",
              " ['DOG', 'dog', 3]]"
            ]
          },
          "metadata": {},
          "execution_count": 42
        }
      ]
    },
    {
      "cell_type": "code",
      "source": [
        "# e.\n",
        "[word for word in words if len(word) >= 4]"
      ],
      "metadata": {
        "colab": {
          "base_uri": "https://localhost:8080/"
        },
        "id": "XC-y2nHliqZK",
        "outputId": "2200fa43-2215-4800-f6e9-2cdf95198353"
      },
      "execution_count": 47,
      "outputs": [
        {
          "output_type": "execute_result",
          "data": {
            "text/plain": [
              "['quick', 'brown', 'jumps', 'over', 'lazy']"
            ]
          },
          "metadata": {},
          "execution_count": 47
        }
      ]
    },
    {
      "cell_type": "code",
      "source": [],
      "metadata": {
        "id": "60iMN41jjDx-"
      },
      "execution_count": null,
      "outputs": []
    }
  ]
}